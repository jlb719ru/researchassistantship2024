{
  "cells": [
    {
      "cell_type": "code",
      "execution_count": 1,
      "metadata": {
        "colab": {
          "base_uri": "https://localhost:8080/"
        },
        "id": "_cFNF1OlDvY5",
        "outputId": "ce9e3914-aac6-44d9-ef30-57cc053d945b"
      },
      "outputs": [
        {
          "ename": "ModuleNotFoundError",
          "evalue": "No module named 'pandas'",
          "output_type": "error",
          "traceback": [
            "\u001b[0;31m---------------------------------------------------------------------------\u001b[0m",
            "\u001b[0;31mModuleNotFoundError\u001b[0m                       Traceback (most recent call last)",
            "Cell \u001b[0;32mIn[1], line 6\u001b[0m\n\u001b[1;32m      3\u001b[0m \u001b[38;5;28;01mimport\u001b[39;00m \u001b[38;5;21;01mzipfile\u001b[39;00m\n\u001b[1;32m      5\u001b[0m \u001b[38;5;66;03m# Data management\u001b[39;00m\n\u001b[0;32m----> 6\u001b[0m \u001b[38;5;28;01mimport\u001b[39;00m \u001b[38;5;21;01mpandas\u001b[39;00m \u001b[38;5;28;01mas\u001b[39;00m \u001b[38;5;21;01mpd\u001b[39;00m\n\u001b[1;32m      8\u001b[0m \u001b[38;5;66;03m# Visualization\u001b[39;00m\n\u001b[1;32m      9\u001b[0m \u001b[38;5;28;01mimport\u001b[39;00m \u001b[38;5;21;01mmatplotlib\u001b[39;00m\u001b[38;5;21;01m.\u001b[39;00m\u001b[38;5;21;01mpyplot\u001b[39;00m \u001b[38;5;28;01mas\u001b[39;00m \u001b[38;5;21;01mplt\u001b[39;00m\n",
            "\u001b[0;31mModuleNotFoundError\u001b[0m: No module named 'pandas'"
          ]
        }
      ],
      "source": [
        "# Basics\n",
        "import os\n",
        "import zipfile\n",
        "\n",
        "# Data management\n",
        "import pandas as pd\n",
        "\n",
        "# Visualization\n",
        "import matplotlib.pyplot as plt\n",
        "\n",
        "# GIS/Maps\n",
        "import geopandas as gpd\n",
        "import folium\n",
        "\n",
        "# For thematic map classification\n",
        "import mapclassify\n"
      ]
    },
    {
      "cell_type": "code",
      "execution_count": null,
      "metadata": {
        "colab": {
          "base_uri": "https://localhost:8080/"
        },
        "id": "_9O5CncGEJyL",
        "outputId": "4cc05ebe-a49d-462c-e05c-2eb6d7c2bd92"
      },
      "outputs": [
        {
          "name": "stdout",
          "output_type": "stream",
          "text": [
            "Requirement already satisfied: streamlit in /usr/local/lib/python3.10/dist-packages (1.40.2)\n",
            "Requirement already satisfied: altair<6,>=4.0 in /usr/local/lib/python3.10/dist-packages (from streamlit) (4.2.2)\n",
            "Requirement already satisfied: blinker<2,>=1.0.0 in /usr/local/lib/python3.10/dist-packages (from streamlit) (1.9.0)\n",
            "Requirement already satisfied: cachetools<6,>=4.0 in /usr/local/lib/python3.10/dist-packages (from streamlit) (5.5.0)\n",
            "Requirement already satisfied: click<9,>=7.0 in /usr/local/lib/python3.10/dist-packages (from streamlit) (8.1.7)\n",
            "Requirement already satisfied: numpy<3,>=1.23 in /usr/local/lib/python3.10/dist-packages (from streamlit) (1.26.4)\n",
            "Requirement already satisfied: packaging<25,>=20 in /usr/local/lib/python3.10/dist-packages (from streamlit) (24.2)\n",
            "Requirement already satisfied: pandas<3,>=1.4.0 in /usr/local/lib/python3.10/dist-packages (from streamlit) (2.2.2)\n",
            "Requirement already satisfied: pillow<12,>=7.1.0 in /usr/local/lib/python3.10/dist-packages (from streamlit) (11.0.0)\n",
            "Requirement already satisfied: protobuf<6,>=3.20 in /usr/local/lib/python3.10/dist-packages (from streamlit) (4.25.5)\n",
            "Requirement already satisfied: pyarrow>=7.0 in /usr/local/lib/python3.10/dist-packages (from streamlit) (17.0.0)\n",
            "Requirement already satisfied: requests<3,>=2.27 in /usr/local/lib/python3.10/dist-packages (from streamlit) (2.32.3)\n",
            "Requirement already satisfied: rich<14,>=10.14.0 in /usr/local/lib/python3.10/dist-packages (from streamlit) (13.9.4)\n",
            "Requirement already satisfied: tenacity<10,>=8.1.0 in /usr/local/lib/python3.10/dist-packages (from streamlit) (9.0.0)\n",
            "Requirement already satisfied: toml<2,>=0.10.1 in /usr/local/lib/python3.10/dist-packages (from streamlit) (0.10.2)\n",
            "Requirement already satisfied: typing-extensions<5,>=4.3.0 in /usr/local/lib/python3.10/dist-packages (from streamlit) (4.12.2)\n",
            "Requirement already satisfied: watchdog<7,>=2.1.5 in /usr/local/lib/python3.10/dist-packages (from streamlit) (6.0.0)\n",
            "Requirement already satisfied: gitpython!=3.1.19,<4,>=3.0.7 in /usr/local/lib/python3.10/dist-packages (from streamlit) (3.1.43)\n",
            "Requirement already satisfied: pydeck<1,>=0.8.0b4 in /usr/local/lib/python3.10/dist-packages (from streamlit) (0.9.1)\n",
            "Requirement already satisfied: tornado<7,>=6.0.3 in /usr/local/lib/python3.10/dist-packages (from streamlit) (6.3.3)\n",
            "Requirement already satisfied: entrypoints in /usr/local/lib/python3.10/dist-packages (from altair<6,>=4.0->streamlit) (0.4)\n",
            "Requirement already satisfied: jinja2 in /usr/local/lib/python3.10/dist-packages (from altair<6,>=4.0->streamlit) (3.1.4)\n",
            "Requirement already satisfied: jsonschema>=3.0 in /usr/local/lib/python3.10/dist-packages (from altair<6,>=4.0->streamlit) (4.23.0)\n",
            "Requirement already satisfied: toolz in /usr/local/lib/python3.10/dist-packages (from altair<6,>=4.0->streamlit) (0.12.1)\n",
            "Requirement already satisfied: gitdb<5,>=4.0.1 in /usr/local/lib/python3.10/dist-packages (from gitpython!=3.1.19,<4,>=3.0.7->streamlit) (4.0.11)\n",
            "Requirement already satisfied: python-dateutil>=2.8.2 in /usr/local/lib/python3.10/dist-packages (from pandas<3,>=1.4.0->streamlit) (2.8.2)\n",
            "Requirement already satisfied: pytz>=2020.1 in /usr/local/lib/python3.10/dist-packages (from pandas<3,>=1.4.0->streamlit) (2024.2)\n",
            "Requirement already satisfied: tzdata>=2022.7 in /usr/local/lib/python3.10/dist-packages (from pandas<3,>=1.4.0->streamlit) (2024.2)\n",
            "Requirement already satisfied: charset-normalizer<4,>=2 in /usr/local/lib/python3.10/dist-packages (from requests<3,>=2.27->streamlit) (3.4.0)\n",
            "Requirement already satisfied: idna<4,>=2.5 in /usr/local/lib/python3.10/dist-packages (from requests<3,>=2.27->streamlit) (3.10)\n",
            "Requirement already satisfied: urllib3<3,>=1.21.1 in /usr/local/lib/python3.10/dist-packages (from requests<3,>=2.27->streamlit) (2.2.3)\n",
            "Requirement already satisfied: certifi>=2017.4.17 in /usr/local/lib/python3.10/dist-packages (from requests<3,>=2.27->streamlit) (2024.8.30)\n",
            "Requirement already satisfied: markdown-it-py>=2.2.0 in /usr/local/lib/python3.10/dist-packages (from rich<14,>=10.14.0->streamlit) (3.0.0)\n",
            "Requirement already satisfied: pygments<3.0.0,>=2.13.0 in /usr/local/lib/python3.10/dist-packages (from rich<14,>=10.14.0->streamlit) (2.18.0)\n",
            "Requirement already satisfied: smmap<6,>=3.0.1 in /usr/local/lib/python3.10/dist-packages (from gitdb<5,>=4.0.1->gitpython!=3.1.19,<4,>=3.0.7->streamlit) (5.0.1)\n",
            "Requirement already satisfied: MarkupSafe>=2.0 in /usr/local/lib/python3.10/dist-packages (from jinja2->altair<6,>=4.0->streamlit) (3.0.2)\n",
            "Requirement already satisfied: attrs>=22.2.0 in /usr/local/lib/python3.10/dist-packages (from jsonschema>=3.0->altair<6,>=4.0->streamlit) (24.2.0)\n",
            "Requirement already satisfied: jsonschema-specifications>=2023.03.6 in /usr/local/lib/python3.10/dist-packages (from jsonschema>=3.0->altair<6,>=4.0->streamlit) (2024.10.1)\n",
            "Requirement already satisfied: referencing>=0.28.4 in /usr/local/lib/python3.10/dist-packages (from jsonschema>=3.0->altair<6,>=4.0->streamlit) (0.35.1)\n",
            "Requirement already satisfied: rpds-py>=0.7.1 in /usr/local/lib/python3.10/dist-packages (from jsonschema>=3.0->altair<6,>=4.0->streamlit) (0.21.0)\n",
            "Requirement already satisfied: mdurl~=0.1 in /usr/local/lib/python3.10/dist-packages (from markdown-it-py>=2.2.0->rich<14,>=10.14.0->streamlit) (0.1.2)\n",
            "Requirement already satisfied: six>=1.5 in /usr/local/lib/python3.10/dist-packages (from python-dateutil>=2.8.2->pandas<3,>=1.4.0->streamlit) (1.16.0)\n",
            "Requirement already satisfied: pyngrok in /usr/local/lib/python3.10/dist-packages (7.2.1)\n",
            "Requirement already satisfied: PyYAML>=5.1 in /usr/local/lib/python3.10/dist-packages (from pyngrok) (6.0.2)\n"
          ]
        }
      ],
      "source": [
        "### Importing Streamlit necessities to deploy as an app\n",
        "!pip install streamlit\n",
        "!pip install pyngrok\n"
      ]
    },
    {
      "cell_type": "code",
      "execution_count": null,
      "metadata": {
        "colab": {
          "base_uri": "https://localhost:8080/"
        },
        "id": "Qbldjq6B9t83",
        "outputId": "fe573ce8-2653-4564-a1ce-d612dadce581"
      },
      "outputs": [
        {
          "name": "stdout",
          "output_type": "stream",
          "text": [
            "File downloaded successfully!\n"
          ]
        },
        {
          "data": {
            "text/plain": [
              "7664898"
            ]
          },
          "execution_count": 2,
          "metadata": {},
          "output_type": "execute_result"
        },
        {
          "name": "stdout",
          "output_type": "stream",
          "text": [
            "Extracted files: ['County_Boundaries_(polygon).prj', 'County_Boundaries_(polygon).dbf', 'County_Boundaries_(polygon).cpg', 'County_Boundaries_(polygon).shp', 'County_Boundaries_(polygon).shx', 'County_Boundaries_(polygon).xml']\n",
            "Shapefile found: /content/shapefiles/County_Boundaries_(polygon).shp\n",
            "Original CRS: EPSG:26918\n",
            "Reprojected CRS: EPSG:4326\n",
            "Counties in the Delaware Valley Region:\n",
            "    objectid  state_name state_fips cnty_fips   fips   area_sqmi state  \\\n",
            "1          2    Delaware         10       003  10003  481.162612    DE   \n",
            "6          7    Maryland         24       015  24015  359.745162    MD   \n",
            "16        17    Maryland         24       031  24031  507.162541    MD   \n",
            "28        29  New Jersey         34       007  34007  227.423213    NJ   \n",
            "32        33  New Jersey         34       015  34015  335.956240    NJ   \n",
            "\n",
            "       co_name dvrpc_reg dvrpc_28co     co_seat dot_code    Shape__Are  \\\n",
            "1   New Castle        No        Yes  Wilmington     None  1.246210e+09   \n",
            "6        Cecil        No        Yes      Elkton     None  9.317394e+08   \n",
            "16  Montgomery        No         No        None     None  1.313550e+09   \n",
            "28      Camden       Yes        Yes      Camden     None  5.890258e+08   \n",
            "32  Gloucester       Yes        Yes    Woodbury     None  8.701261e+08   \n",
            "\n",
            "       Shape__Len                                           geometry  \n",
            "1   191386.221348  POLYGON ((-75.41402 39.80162, -75.4139 39.8015...  \n",
            "6   305872.292814  POLYGON ((-76.13552 39.72143, -75.97439 39.721...  \n",
            "16  177646.243738  POLYGON ((-76.88786 39.13171, -76.88806 39.131...  \n",
            "28  151292.767530  POLYGON ((-75.01225 39.97839, -75.01228 39.978...  \n",
            "32  171311.333784  POLYGON ((-74.87729 39.60836, -74.88433 39.602...  \n"
          ]
        }
      ],
      "source": [
        "import os\n",
        "import zipfile\n",
        "import geopandas as gpd\n",
        "import requests\n",
        "\n",
        "# Step 1: Download the ZIP file from GitHub\n",
        "url = \"https://github.com/jlb719ru/researchassistantship2024/raw/main/County_Boundaries_(polygon)%20(3).zip\"\n",
        "response = requests.get(url)\n",
        "\n",
        "# Check if the file was downloaded successfully\n",
        "if response.status_code != 200:\n",
        "    print(f\"Error: File download failed. Status code: {response.status_code}\")\n",
        "else:\n",
        "    print(\"File downloaded successfully!\")\n",
        "\n",
        "    # Step 2: Save the ZIP file to disk\n",
        "    zip_file_path = '/content/County_Boundaries_(polygon) (3).zip'\n",
        "    with open(zip_file_path, 'wb') as f:\n",
        "        f.write(response.content)\n",
        "\n",
        "    # Step 3: Extract the ZIP file\n",
        "    extraction_path = '/content/shapefiles'\n",
        "    with zipfile.ZipFile(zip_file_path, 'r') as zip_ref:\n",
        "        zip_ref.extractall(extraction_path)\n",
        "\n",
        "    # Step 4: List the extracted files\n",
        "    extracted_files = os.listdir(extraction_path)\n",
        "    print(\"Extracted files:\", extracted_files)\n",
        "\n",
        "    # Step 5: Find the shapefile (.shp) inside the extracted folder\n",
        "    shapefile_path = next((os.path.join(extraction_path, f) for f in extracted_files if f.endswith('.shp')), None)\n",
        "\n",
        "    if shapefile_path is None:\n",
        "        print(\"Error: No shapefile (.shp) found in the extracted folder.\")\n",
        "    else:\n",
        "        print(f\"Shapefile found: {shapefile_path}\")\n",
        "\n",
        "        # Step 6: Read the shapefile using GeoPandas\n",
        "        gdf = gpd.read_file(shapefile_path)\n",
        "\n",
        "        # Step 7: Check the CRS of the shapefile\n",
        "        print(\"Original CRS:\", gdf.crs)\n",
        "\n",
        "        # If the CRS is not EPSG:4326, reproject it\n",
        "        if gdf.crs != 'EPSG:4326':\n",
        "            gdf = gdf.to_crs(epsg=4326)  # Reproject to EPSG:4326\n",
        "            print(\"Reprojected CRS:\", gdf.crs)\n",
        "\n",
        "        # Step 8: Filter the GeoDataFrame for counties in the Delaware Valley region\n",
        "        delaware_valley_counties = [\n",
        "            \"Philadelphia\", \"Bucks\", \"Chester\", \"Delaware\", \"Montgomery\",  # Pennsylvania counties\n",
        "            \"Burlington\", \"Camden\", \"Gloucester\", \"Mercer\",  # New Jersey counties\n",
        "            \"New Castle\",  # Delaware county\n",
        "            \"Cecil\"  # Maryland county (optional)\n",
        "        ]\n",
        "\n",
        "        # Filter for the counties in the Delaware Valley region based on 'co_name' column\n",
        "        delaware_valley_gdf = gdf[gdf['co_name'].isin(delaware_valley_counties)]\n",
        "\n",
        "        # Display the first few rows of the filtered GeoDataFrame\n",
        "        print(\"Counties in the Delaware Valley Region:\")\n",
        "        print(delaware_valley_gdf.head())\n",
        "\n",
        "        # Optional: Save the filtered GeoDataFrame to a new shapefile or visualize\n",
        "        # delaware_valley_gdf.to_file(\"/content/delaware_valley_counties.shp\")\n",
        "        # delaware_valley_gdf.plot()\n",
        "        # plt.show()\n"
      ]
    },
    {
      "cell_type": "code",
      "execution_count": null,
      "metadata": {
        "colab": {
          "base_uri": "https://localhost:8080/"
        },
        "id": "aU9l_0ETy6vm",
        "outputId": "79bccf45-c2ba-4fc4-c02d-9e3f61cb90cc"
      },
      "outputs": [
        {
          "data": {
            "text/plain": [
              "<folium.features.GeoJson at 0x7b849b48cd30>"
            ]
          },
          "execution_count": 3,
          "metadata": {},
          "output_type": "execute_result"
        }
      ],
      "source": [
        "import folium\n",
        "\n",
        "# Set the center of the map (you can change this based on your data)\n",
        "map_center = [39.915, -75.2]  # Example center (near Philadelphia)\n",
        "\n",
        "# Create a Folium map centered on the Delaware Valley region\n",
        "m = folium.Map(location=map_center, zoom_start=8)\n",
        "\n",
        "# Add the Delaware Valley region to the map as GeoJSON\n",
        "folium.GeoJson(delaware_valley_gdf).add_to(m)\n",
        "\n",
        "# Display the map\n",
        "# m"
      ]
    },
    {
      "cell_type": "code",
      "execution_count": null,
      "metadata": {
        "colab": {
          "base_uri": "https://localhost:8080/",
          "height": 378
        },
        "id": "Meae8YFNw6xa",
        "outputId": "2202604c-1abc-4e85-a2fb-a7f99c7ae904"
      },
      "outputs": [
        {
          "name": "stderr",
          "output_type": "stream",
          "text": [
            "WARNING:urllib3.connectionpool:Retrying (Retry(total=1, connect=None, read=None, redirect=None, status=None)) after connection broken by 'ReadTimeoutError(\"HTTPSConnectionPool(host='nominatim.openstreetmap.org', port=443): Read timed out. (read timeout=1)\")': /search?q=10175+Bustleton+Ave%2C+Philadelphia%2C+PA+19116&format=json&limit=1\n",
            "WARNING:urllib3.connectionpool:Retrying (Retry(total=1, connect=None, read=None, redirect=None, status=None)) after connection broken by 'ReadTimeoutError(\"HTTPSConnectionPool(host='nominatim.openstreetmap.org', port=443): Read timed out. (read timeout=1)\")': /search?q=1733+W+Girard+Ave%2C+Philadelphia%2C+PA+19130&format=json&limit=1\n"
          ]
        },
        {
          "name": "stdout",
          "output_type": "stream",
          "text": [
            "Could not geocode: Bucks County Montessori Charter School\n",
            "Could not geocode: Solebury School\n",
            "Could not geocode: Montgomery Flex Charter School\n",
            "Could not geocode: Bishop Eustace Preparatory School\n",
            "Could not geocode: Lenape High School\n",
            "Could not geocode: Holy Cross Preparatory Academy\n"
          ]
        },
        {
          "ename": "KeyboardInterrupt",
          "evalue": "",
          "output_type": "error",
          "traceback": [
            "\u001b[0;31m---------------------------------------------------------------------------\u001b[0m",
            "\u001b[0;31mKeyboardInterrupt\u001b[0m                         Traceback (most recent call last)",
            "\u001b[0;32m<ipython-input-7-93774bfd2fac>\u001b[0m in \u001b[0;36m<cell line: 90>\u001b[0;34m()\u001b[0m\n\u001b[1;32m     93\u001b[0m     \u001b[0mlat\u001b[0m\u001b[0;34m,\u001b[0m \u001b[0mlon\u001b[0m \u001b[0;34m=\u001b[0m \u001b[0mget_coordinates\u001b[0m\u001b[0;34m(\u001b[0m\u001b[0mname\u001b[0m\u001b[0;34m,\u001b[0m \u001b[0maddress\u001b[0m\u001b[0;34m)\u001b[0m\u001b[0;34m\u001b[0m\u001b[0;34m\u001b[0m\u001b[0m\n\u001b[1;32m     94\u001b[0m     \u001b[0mresults\u001b[0m\u001b[0;34m.\u001b[0m\u001b[0mappend\u001b[0m\u001b[0;34m(\u001b[0m\u001b[0;34m{\u001b[0m\u001b[0;34m\"name\"\u001b[0m\u001b[0;34m:\u001b[0m \u001b[0mname\u001b[0m\u001b[0;34m,\u001b[0m \u001b[0;34m\"type\"\u001b[0m\u001b[0;34m:\u001b[0m \u001b[0mschool\u001b[0m\u001b[0;34m[\u001b[0m\u001b[0;34m\"type\"\u001b[0m\u001b[0;34m]\u001b[0m\u001b[0;34m,\u001b[0m \u001b[0;34m\"address\"\u001b[0m\u001b[0;34m:\u001b[0m \u001b[0maddress\u001b[0m\u001b[0;34m,\u001b[0m \u001b[0;34m\"latitude\"\u001b[0m\u001b[0;34m:\u001b[0m \u001b[0mlat\u001b[0m\u001b[0;34m,\u001b[0m \u001b[0;34m\"longitude\"\u001b[0m\u001b[0;34m:\u001b[0m \u001b[0mlon\u001b[0m\u001b[0;34m}\u001b[0m\u001b[0;34m)\u001b[0m\u001b[0;34m\u001b[0m\u001b[0;34m\u001b[0m\u001b[0m\n\u001b[0;32m---> 95\u001b[0;31m     \u001b[0mtime\u001b[0m\u001b[0;34m.\u001b[0m\u001b[0msleep\u001b[0m\u001b[0;34m(\u001b[0m\u001b[0;36m1\u001b[0m\u001b[0;34m)\u001b[0m  \u001b[0;31m# Pause to respect API usage limits\u001b[0m\u001b[0;34m\u001b[0m\u001b[0;34m\u001b[0m\u001b[0m\n\u001b[0m\u001b[1;32m     96\u001b[0m \u001b[0;34m\u001b[0m\u001b[0m\n\u001b[1;32m     97\u001b[0m \u001b[0;31m# Convert results to a DataFrame\u001b[0m\u001b[0;34m\u001b[0m\u001b[0;34m\u001b[0m\u001b[0m\n",
            "\u001b[0;31mKeyboardInterrupt\u001b[0m: "
          ]
        }
      ],
      "source": [
        "import folium\n",
        "import pandas as pd\n",
        "import time\n",
        "from geopy.geocoders import Nominatim\n",
        "\n",
        "# Initialize geolocator\n",
        "geolocator = Nominatim(user_agent=\"school_locator\")\n",
        "\n",
        "# List of schools with optional addresses and school types\n",
        "schools = [\n",
        "    # Philadelphia County\n",
        "    {\"name\": \"Central High School\", \"type\": \"Charter Public\", \"address\": \"1700 W Olney Ave, Philadelphia, PA 19141\"},\n",
        "    {\"name\": \"Northeast High School\", \"type\": \"Charter Public\", \"address\": \"1601 Cottman Ave, Philadelphia, PA 19111\"},\n",
        "    {\"name\": \"Masterman School\", \"type\": \"Charter Public\", \"address\": \"1699 Spring Garden St, Philadelphia, PA 19130\"},\n",
        "    {\"name\": \"Academy at Palumbo\", \"type\": \"Charter Public\", \"address\": \"1100 Catharine St, Philadelphia, PA 19147\"},\n",
        "    {\"name\": \"George Washington High School\", \"type\": \"Charter Public\", \"address\": \"10175 Bustleton Ave, Philadelphia, PA 19116\"},\n",
        "    {\"name\": \"Greenfield Elementary School\", \"type\": \"Charter Public\", \"address\": \"2200 Chestnut St, Philadelphia, PA 19103\"},\n",
        "    {\"name\": \"MaST Community Charter Schools\", \"type\": \"Charter Public\", \"address\": \"1800 Byberry Rd, Philadelphia, PA 19116\"},\n",
        "    {\"name\": \"KIPP Philadelphia Schools\", \"type\": \"Charter Public\", \"address\": \"2539 N 16th St, Philadelphia, PA 19132\"},\n",
        "    {\"name\": \"Esperanza Academy Charter School\", \"type\": \"Charter Public\", \"address\": \"301 W Hunting Park Ave, Philadelphia, PA 19140\"},\n",
        "    {\"name\": \"Germantown Friends School\", \"type\": \"Charter Public\", \"address\": \"31 W Coulter St, Philadelphia, PA 19144\"},\n",
        "    {\"name\": \"Springside Chestnut Hill Academy\", \"type\": \"Charter Public\", \"address\": \"500 W Willow Grove Ave, Philadelphia, PA 19118\"},\n",
        "    {\"name\": \"William Penn Charter School\", \"type\": \"Charter Public\", \"address\": \"3000 W School House Ln, Philadelphia, PA 19144\"},\n",
        "    {\"name\": \"Roman Catholic High School\", \"type\": \"Charter Public\", \"address\": \"301 N Broad St, Philadelphia, PA 19107\"},\n",
        "    {\"name\": \"St. Joseph's Preparatory School\", \"type\": \"Charter Public\", \"address\": \"1733 W Girard Ave, Philadelphia, PA 19130\"},\n",
        "    {\"name\": \"Archbishop Ryan High School\", \"type\": \"Charter Public\", \"address\": \"11201 Academy Rd, Philadelphia, PA 19154\"},\n",
        "\n",
        "    # Bucks County\n",
        "    {\"name\": \"Pennsbury High School\", \"type\": \"Charter Public\", \"address\": \"705 Hood Blvd, Fairless Hills, PA 19030\"},\n",
        "    {\"name\": \"Neshaminy High School\", \"type\": \"Charter Public\", \"address\": \"2001 Old Lincoln Hwy, Langhorne, PA 19047\"},\n",
        "    {\"name\": \"Council Rock High School North\", \"type\": \"Charter Public\", \"address\": \"62 Swamp Rd, Newtown, PA 18940\"},\n",
        "    {\"name\": \"Bucks County Montessori Charter School\", \"type\": \"Charter Public\", \"address\": \"1575 Edgewood Rd, Yardley, PA 19067\"},\n",
        "    {\"name\": \"Solebury School\", \"type\": \"Charter Public\", \"address\": \"6832 Phillips Mill Rd, New Hope, PA 18938\"},\n",
        "    {\"name\": \"Holy Ghost Preparatory School\", \"type\": \"Charter Public\", \"address\": \"2429 Bristol Pike, Bensalem, PA 19020\"},\n",
        "    {\"name\": \"Villa Joseph Marie High School\", \"type\": \"Charter Public\", \"address\": \"1180 Holland Rd, Holland, PA 18966\"},\n",
        "\n",
        "    # Montgomery County\n",
        "    {\"name\": \"Lower Merion High School\", \"type\": \"Charter Public\", \"address\": \"315 E Montgomery Ave, Ardmore, PA 19003\"},\n",
        "    {\"name\": \"North Penn High School\", \"type\": \"Charter Public\", \"address\": \"1340 S Valley Forge Rd, Lansdale, PA 19446\"},\n",
        "    {\"name\": \"Wissahickon High School\", \"type\": \"Charter Public\", \"address\": \"521 Houston Rd, Ambler, PA 19002\"},\n",
        "    {\"name\": \"Montgomery Flex Charter School\", \"type\": \"Charter Public\", \"address\": \"2340 Skippack Pike, Suite A, Blue Bell, PA 19422\"},\n",
        "    {\"name\": \"The Haverford School\", \"type\": \"Charter Public\", \"address\": \"450 Lancaster Ave, Haverford, PA 19041\"},\n",
        "    {\"name\": \"Baldwin School\", \"type\": \"Charter Public\", \"address\": \"701 Montgomery Ave, Bryn Mawr, PA 19010\"},\n",
        "    {\"name\": \"Merion Mercy Academy\", \"type\": \"Charter Public\", \"address\": \"511 Montgomery Ave, Merion Station, PA 19066\"},\n",
        "    {\"name\": \"Gwynedd Mercy Academy\", \"type\": \"Charter Public\", \"address\": \"1345 Sumneytown Pike, Gwynedd Valley, PA 19437\"},\n",
        "\n",
        "    # Camden County, New Jersey\n",
        "    {\"name\": \"Camden High School\", \"type\": \"Charter Public\", \"address\": \"1700 Park Blvd, Camden, NJ 08103\"},\n",
        "    {\"name\": \"Cherry Hill High School East\", \"type\": \"Charter Public\", \"address\": \"1750 Kresson Rd, Cherry Hill, NJ 08003\"},\n",
        "    {\"name\": \"LEAP Academy University Charter School\", \"type\": \"Charter Public\", \"address\": \"3500 Federal St, Camden, NJ 08105\"},\n",
        "    {\"name\": \"Bishop Eustace Preparatory School\", \"type\": \"Charter Public\", \"address\": \"555 New Jersey 70, Pennsauken, NJ 08109\"},\n",
        "    {\"name\": \"Our Lady of Mount Carmel Regional School\", \"type\": \"Charter Public\", \"address\": \"2301 S 9th St, Camden, NJ 08104\"},\n",
        "\n",
        "    # Burlington County, New Jersey\n",
        "    {\"name\": \"Lenape High School\", \"type\": \"Charter Public\", \"address\": \"235 W Clinton Ave, Medford, NJ 08055\"},\n",
        "    {\"name\": \"Rancocas Valley Regional High School\", \"type\": \"Charter Public\", \"address\": \"520 Jacksonville Rd, Mount Holly, NJ 08060\"},\n",
        "    {\"name\": \"New Jersey Virtual Charter School\", \"type\": \"Charter Public\", \"address\": \"2100 Springdale Rd, Cherry Hill, NJ 08003\"},\n",
        "    {\"name\": \"Doane Academy\", \"type\": \"Charter Public\", \"address\": \"350 Riverbank Rd, Burlington, NJ 08016\"},\n",
        "    {\"name\": \"Holy Cross Preparatory Academy\", \"type\": \"Charter Public\", \"address\": \"5035 Route 130, Delran, NJ 08075\"},\n",
        "\n",
        "    # New Castle County, Delaware\n",
        "    {\"name\": \"Newark High School\", \"type\": \"Charter Public\", \"address\": \"750 E Delaware Ave, Newark, DE 19711\"},\n",
        "    {\"name\": \"Alexis I. du Pont High School\", \"type\": \"Charter Public\", \"address\": \"1301 Carruthers Ln, Wilmington, DE 19803\"},\n",
        "    {\"name\": \"Charter School of Wilmington\", \"type\": \"Charter Public\", \"address\": \"100 N Dupont Rd, Wilmington, DE 19807\"},\n",
        "    {\"name\": \"Delaware Military Academy\", \"type\": \"Charter Public\", \"address\": \"112 Middleboro Rd, Wilmington, DE 19804\"},\n",
        "    {\"name\": \"Sanford School\", \"type\": \"Charter Public\", \"address\": \"6900 Lancaster Pike, Hockessin, DE 19707\"},\n",
        "    {\"name\": \"Tatnall School\", \"type\": \"Charter Public\", \"address\": \"1501 Barley Mill Rd, Wilmington, DE 19807\"},\n",
        "    {\"name\": \"Ursuline Academy\", \"type\": \"Charter Public\", \"address\": \"1106 Pennsylvania Ave, Wilmington, DE 19806\"},\n",
        "    {\"name\": \"St. Mark's High School\", \"type\": \"Charter Public\", \"address\": \"2501 Pike Creek Rd, Wilmington, DE 19808\"}\n",
        "]\n",
        "\n",
        "\n",
        "# Function to get latitude and longitude\n",
        "def get_coordinates(name, address):\n",
        "    try:\n",
        "        location = geolocator.geocode(address)\n",
        "        if location:\n",
        "            return location.latitude, location.longitude\n",
        "        else:\n",
        "            print(f\"Could not geocode: {name}\")\n",
        "            return None, None\n",
        "    except Exception as e:\n",
        "        print(f\"Error for {name}: {e}\")\n",
        "        return None, None\n",
        "\n",
        "# Dataframe to store results\n",
        "results = []\n",
        "\n",
        "# Loop through schools\n",
        "for school in schools:\n",
        "    name = school[\"name\"]\n",
        "    address = school[\"address\"]\n",
        "    lat, lon = get_coordinates(name, address)\n",
        "    results.append({\"name\": name, \"type\": school[\"type\"], \"address\": address, \"latitude\": lat, \"longitude\": lon})\n",
        "    time.sleep(1)  # Pause to respect API usage limits\n",
        "\n",
        "# Convert results to a DataFrame\n",
        "school_coords = pd.DataFrame(results)\n",
        "\n",
        "# Define colors for each school type\n",
        "type_colors = {\n",
        "    \"Public District\": \"blue\",\n",
        "    \"Charter\": \"green\",\n",
        "    \"Private Secular\": \"purple\",\n",
        "    \"Private Religious\": \"red\"\n",
        "}\n",
        "\n",
        "# Plot each school on the map\n",
        "for _, row in school_coords.iterrows():\n",
        "    if not pd.isna(row[\"latitude\"]) and not pd.isna(row[\"longitude\"]):\n",
        "        folium.Marker(\n",
        "            location=[row[\"latitude\"], row[\"longitude\"]],\n",
        "            popup=f\"{row['name']} ({row['type']})\",\n",
        "            icon=folium.Icon(color=type_colors.get(row[\"type\"], \"gray\"))\n",
        "        ).add_to(m)\n",
        "\n",
        "# Save or display the map\n",
        "# m.save(\"schools_map.html\")\n",
        "m  # This will render the map if you are in a Jupyter Notebook environment.\n"
      ]
    },
    {
      "cell_type": "code",
      "execution_count": null,
      "metadata": {
        "id": "k26Mge_h0Kar"
      },
      "outputs": [],
      "source": []
    }
  ],
  "metadata": {
    "colab": {
      "provenance": []
    },
    "kernelspec": {
      "display_name": "Python 3",
      "name": "python3"
    },
    "language_info": {
      "codemirror_mode": {
        "name": "ipython",
        "version": 3
      },
      "file_extension": ".py",
      "mimetype": "text/x-python",
      "name": "python",
      "nbconvert_exporter": "python",
      "pygments_lexer": "ipython3",
      "version": "3.9.6"
    }
  },
  "nbformat": 4,
  "nbformat_minor": 0
}
