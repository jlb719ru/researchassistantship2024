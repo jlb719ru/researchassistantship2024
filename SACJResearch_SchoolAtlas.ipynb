{
  "cells": [
    {
      "cell_type": "code",
      "execution_count": 24,
      "metadata": {
        "colab": {
          "base_uri": "https://localhost:8080/"
        },
        "id": "_cFNF1OlDvY5",
        "outputId": "ce9e3914-aac6-44d9-ef30-57cc053d945b"
      },
      "outputs": [],
      "source": [
        "# Basics\n",
        "import os\n",
        "import zipfile\n",
        "import time\n",
        "\n",
        "# Data management\n",
        "import pandas as pd\n",
        "import openpyxl\n",
        "\n",
        "# Visualization\n",
        "import matplotlib.pyplot as plt\n",
        "\n",
        "# GIS/Maps\n",
        "import geopandas as gpd\n",
        "import folium\n",
        "import mapclassify\n",
        "from geopy.geocoders import Nominatim\n",
        "\n"
      ]
    },
    {
      "cell_type": "code",
      "execution_count": 25,
      "metadata": {
        "colab": {
          "base_uri": "https://localhost:8080/"
        },
        "id": "Qbldjq6B9t83",
        "outputId": "fe573ce8-2653-4564-a1ce-d612dadce581"
      },
      "outputs": [
        {
          "name": "stdout",
          "output_type": "stream",
          "text": [
            "ZIP file found: ./county_boundaries.zip\n",
            "Extracted files: ['County_Boundaries_(polygon).prj', 'County_Boundaries_(polygon).xml', 'County_Boundaries_(polygon).dbf', 'County_Boundaries_(polygon).shx', 'County_Boundaries_(polygon).shp', 'County_Boundaries_(polygon).cpg']\n",
            "Shapefile found: ./shapefiles/County_Boundaries_(polygon).shp\n",
            "Original CRS: EPSG:26918\n",
            "Reprojected CRS: EPSG:4326\n"
          ]
        }
      ],
      "source": [
        "# Step 1: Define the path to the ZIP file\n",
        "zip_file_path = './county_boundaries.zip'\n",
        "\n",
        "# Step 2: Check if the ZIP file exists\n",
        "if not os.path.exists(zip_file_path):\n",
        "    print(f\"Error: File not found at {zip_file_path}\")\n",
        "else:\n",
        "    print(f\"ZIP file found: {zip_file_path}\")\n",
        "\n",
        "    # Step 3: Extract the ZIP file\n",
        "    extraction_path = './shapefiles'\n",
        "    with zipfile.ZipFile(zip_file_path, 'r') as zip_ref:\n",
        "        zip_ref.extractall(extraction_path)\n",
        "\n",
        "    # Step 4: List the extracted files\n",
        "    extracted_files = os.listdir(extraction_path)\n",
        "    print(\"Extracted files:\", extracted_files)\n",
        "\n",
        "    # Step 5: Find the shapefile (.shp) inside the extracted folder\n",
        "    shapefile_path = next((os.path.join(extraction_path, f) for f in extracted_files if f.endswith('.shp')), None)\n",
        "\n",
        "    if shapefile_path is None:\n",
        "        print(\"Error: No shapefile (.shp) found in the extracted folder.\")\n",
        "    else:\n",
        "        print(f\"Shapefile found: {shapefile_path}\")\n",
        "\n",
        "        # Step 6: Read the shapefile using GeoPandas\n",
        "        gdf = gpd.read_file(shapefile_path)\n",
        "\n",
        "        # Step 7: Check the CRS of the shapefile\n",
        "        print(\"Original CRS:\", gdf.crs)\n",
        "\n",
        "        # If the CRS is not EPSG:4326, reproject it\n",
        "        if gdf.crs != 'EPSG:4326':\n",
        "            gdf = gdf.to_crs(epsg=4326)  # Reproject to EPSG:4326\n",
        "            print(\"Reprojected CRS:\", gdf.crs)\n",
        "\n",
        "        # Step 8: Filter the GeoDataFrame for counties in the Delaware Valley region\n",
        "        delaware_valley_counties = [\n",
        "            \"Philadelphia\", \"Bucks\", \"Chester\", \"Delaware\", \"Montgomery\",  # Pennsylvania counties\n",
        "            \"Burlington\", \"Camden\", \"Gloucester\", \"Mercer\",  # New Jersey counties\n",
        "            \"New Castle\",  # Delaware county\n",
        "            \"Cecil\"  # Maryland county (optional)\n",
        "        ]\n",
        "\n",
        "        # Filter for the counties in the Delaware Valley region based on 'co_name' column\n",
        "        delaware_valley_gdf = gdf[gdf['co_name'].isin(delaware_valley_counties)]\n",
        "\n",
        "        # # Display the first few rows of the filtered GeoDataFrame\n",
        "        # print(\"Counties in the Delaware Valley Region:\")\n",
        "        # print(delaware_valley_gdf.head())  # Use .head() to display the first few rows of the table\n"
      ]
    },
    {
      "cell_type": "code",
      "execution_count": 26,
      "metadata": {
        "colab": {
          "base_uri": "https://localhost:8080/"
        },
        "id": "aU9l_0ETy6vm",
        "outputId": "79bccf45-c2ba-4fc4-c02d-9e3f61cb90cc"
      },
      "outputs": [
        {
          "data": {
            "text/plain": [
              "<folium.features.GeoJson at 0x1200c8990>"
            ]
          },
          "execution_count": 26,
          "metadata": {},
          "output_type": "execute_result"
        }
      ],
      "source": [
        "# Set the center of the map\n",
        "map_center = [39.915, -75.2]  # Example center (near Philadelphia)\n",
        "\n",
        "# Create a Folium map centered on the Delaware Valley region\n",
        "m = folium.Map(location=map_center, zoom_start=8)\n",
        "\n",
        "# Add the Delaware Valley region to the map as GeoJSON\n",
        "folium.GeoJson(delaware_valley_gdf).add_to(m)\n",
        "\n",
        "# Display the map\n",
        "# m"
      ]
    },
    {
      "cell_type": "code",
      "execution_count": null,
      "metadata": {
        "colab": {
          "base_uri": "https://localhost:8080/",
          "height": 378
        },
        "id": "Meae8YFNw6xa",
        "outputId": "2202604c-1abc-4e85-a2fb-a7f99c7ae904"
      },
      "outputs": [
        {
          "ename": "KeyError",
          "evalue": "'address'",
          "output_type": "error",
          "traceback": [
            "\u001b[0;31m---------------------------------------------------------------------------\u001b[0m",
            "\u001b[0;31mKeyError\u001b[0m                                  Traceback (most recent call last)",
            "File \u001b[0;32m~/Desktop/RA_Fall2024/SCHOOL_ATLAS/researchassistantship2024/.venv/lib/python3.11/site-packages/pandas/core/indexes/base.py:3805\u001b[0m, in \u001b[0;36mIndex.get_loc\u001b[0;34m(self, key)\u001b[0m\n\u001b[1;32m   3804\u001b[0m \u001b[38;5;28;01mtry\u001b[39;00m:\n\u001b[0;32m-> 3805\u001b[0m     \u001b[38;5;28;01mreturn\u001b[39;00m \u001b[38;5;28;43mself\u001b[39;49m\u001b[38;5;241;43m.\u001b[39;49m\u001b[43m_engine\u001b[49m\u001b[38;5;241;43m.\u001b[39;49m\u001b[43mget_loc\u001b[49m\u001b[43m(\u001b[49m\u001b[43mcasted_key\u001b[49m\u001b[43m)\u001b[49m\n\u001b[1;32m   3806\u001b[0m \u001b[38;5;28;01mexcept\u001b[39;00m \u001b[38;5;167;01mKeyError\u001b[39;00m \u001b[38;5;28;01mas\u001b[39;00m err:\n",
            "File \u001b[0;32mindex.pyx:167\u001b[0m, in \u001b[0;36mpandas._libs.index.IndexEngine.get_loc\u001b[0;34m()\u001b[0m\n",
            "File \u001b[0;32mindex.pyx:196\u001b[0m, in \u001b[0;36mpandas._libs.index.IndexEngine.get_loc\u001b[0;34m()\u001b[0m\n",
            "File \u001b[0;32mpandas/_libs/hashtable_class_helper.pxi:7081\u001b[0m, in \u001b[0;36mpandas._libs.hashtable.PyObjectHashTable.get_item\u001b[0;34m()\u001b[0m\n",
            "File \u001b[0;32mpandas/_libs/hashtable_class_helper.pxi:7089\u001b[0m, in \u001b[0;36mpandas._libs.hashtable.PyObjectHashTable.get_item\u001b[0;34m()\u001b[0m\n",
            "\u001b[0;31mKeyError\u001b[0m: 'address'",
            "\nThe above exception was the direct cause of the following exception:\n",
            "\u001b[0;31mKeyError\u001b[0m                                  Traceback (most recent call last)",
            "Cell \u001b[0;32mIn[21], line 43\u001b[0m\n\u001b[1;32m     41\u001b[0m \u001b[38;5;28;01mfor\u001b[39;00m _, school \u001b[38;5;129;01min\u001b[39;00m schools\u001b[38;5;241m.\u001b[39miterrows():  \u001b[38;5;66;03m# .iterrows() will give us each row\u001b[39;00m\n\u001b[1;32m     42\u001b[0m     name \u001b[38;5;241m=\u001b[39m school[\u001b[38;5;124m\"\u001b[39m\u001b[38;5;124mname\u001b[39m\u001b[38;5;124m\"\u001b[39m]\n\u001b[0;32m---> 43\u001b[0m     full_address \u001b[38;5;241m=\u001b[39m \u001b[43mschool\u001b[49m\u001b[43m[\u001b[49m\u001b[38;5;124;43m\"\u001b[39;49m\u001b[38;5;124;43maddress\u001b[39;49m\u001b[38;5;124;43m\"\u001b[39;49m\u001b[43m]\u001b[49m  \u001b[38;5;66;03m# Assuming the full address is stored in the \"address\" column\u001b[39;00m\n\u001b[1;32m     44\u001b[0m     county \u001b[38;5;241m=\u001b[39m school[\u001b[38;5;124m\"\u001b[39m\u001b[38;5;124mcounty\u001b[39m\u001b[38;5;124m\"\u001b[39m]  \u001b[38;5;66;03m# Assuming county is also included in the DataFrame\u001b[39;00m\n\u001b[1;32m     45\u001b[0m     lat, lon \u001b[38;5;241m=\u001b[39m get_coordinates(name, full_address, county)  \u001b[38;5;66;03m# Get coordinates using full address and county\u001b[39;00m\n",
            "File \u001b[0;32m~/Desktop/RA_Fall2024/SCHOOL_ATLAS/researchassistantship2024/.venv/lib/python3.11/site-packages/pandas/core/series.py:1121\u001b[0m, in \u001b[0;36mSeries.__getitem__\u001b[0;34m(self, key)\u001b[0m\n\u001b[1;32m   1118\u001b[0m     \u001b[38;5;28;01mreturn\u001b[39;00m \u001b[38;5;28mself\u001b[39m\u001b[38;5;241m.\u001b[39m_values[key]\n\u001b[1;32m   1120\u001b[0m \u001b[38;5;28;01melif\u001b[39;00m key_is_scalar:\n\u001b[0;32m-> 1121\u001b[0m     \u001b[38;5;28;01mreturn\u001b[39;00m \u001b[38;5;28;43mself\u001b[39;49m\u001b[38;5;241;43m.\u001b[39;49m\u001b[43m_get_value\u001b[49m\u001b[43m(\u001b[49m\u001b[43mkey\u001b[49m\u001b[43m)\u001b[49m\n\u001b[1;32m   1123\u001b[0m \u001b[38;5;66;03m# Convert generator to list before going through hashable part\u001b[39;00m\n\u001b[1;32m   1124\u001b[0m \u001b[38;5;66;03m# (We will iterate through the generator there to check for slices)\u001b[39;00m\n\u001b[1;32m   1125\u001b[0m \u001b[38;5;28;01mif\u001b[39;00m is_iterator(key):\n",
            "File \u001b[0;32m~/Desktop/RA_Fall2024/SCHOOL_ATLAS/researchassistantship2024/.venv/lib/python3.11/site-packages/pandas/core/series.py:1237\u001b[0m, in \u001b[0;36mSeries._get_value\u001b[0;34m(self, label, takeable)\u001b[0m\n\u001b[1;32m   1234\u001b[0m     \u001b[38;5;28;01mreturn\u001b[39;00m \u001b[38;5;28mself\u001b[39m\u001b[38;5;241m.\u001b[39m_values[label]\n\u001b[1;32m   1236\u001b[0m \u001b[38;5;66;03m# Similar to Index.get_value, but we do not fall back to positional\u001b[39;00m\n\u001b[0;32m-> 1237\u001b[0m loc \u001b[38;5;241m=\u001b[39m \u001b[38;5;28;43mself\u001b[39;49m\u001b[38;5;241;43m.\u001b[39;49m\u001b[43mindex\u001b[49m\u001b[38;5;241;43m.\u001b[39;49m\u001b[43mget_loc\u001b[49m\u001b[43m(\u001b[49m\u001b[43mlabel\u001b[49m\u001b[43m)\u001b[49m\n\u001b[1;32m   1239\u001b[0m \u001b[38;5;28;01mif\u001b[39;00m is_integer(loc):\n\u001b[1;32m   1240\u001b[0m     \u001b[38;5;28;01mreturn\u001b[39;00m \u001b[38;5;28mself\u001b[39m\u001b[38;5;241m.\u001b[39m_values[loc]\n",
            "File \u001b[0;32m~/Desktop/RA_Fall2024/SCHOOL_ATLAS/researchassistantship2024/.venv/lib/python3.11/site-packages/pandas/core/indexes/base.py:3812\u001b[0m, in \u001b[0;36mIndex.get_loc\u001b[0;34m(self, key)\u001b[0m\n\u001b[1;32m   3807\u001b[0m     \u001b[38;5;28;01mif\u001b[39;00m \u001b[38;5;28misinstance\u001b[39m(casted_key, \u001b[38;5;28mslice\u001b[39m) \u001b[38;5;129;01mor\u001b[39;00m (\n\u001b[1;32m   3808\u001b[0m         \u001b[38;5;28misinstance\u001b[39m(casted_key, abc\u001b[38;5;241m.\u001b[39mIterable)\n\u001b[1;32m   3809\u001b[0m         \u001b[38;5;129;01mand\u001b[39;00m \u001b[38;5;28many\u001b[39m(\u001b[38;5;28misinstance\u001b[39m(x, \u001b[38;5;28mslice\u001b[39m) \u001b[38;5;28;01mfor\u001b[39;00m x \u001b[38;5;129;01min\u001b[39;00m casted_key)\n\u001b[1;32m   3810\u001b[0m     ):\n\u001b[1;32m   3811\u001b[0m         \u001b[38;5;28;01mraise\u001b[39;00m InvalidIndexError(key)\n\u001b[0;32m-> 3812\u001b[0m     \u001b[38;5;28;01mraise\u001b[39;00m \u001b[38;5;167;01mKeyError\u001b[39;00m(key) \u001b[38;5;28;01mfrom\u001b[39;00m \u001b[38;5;21;01merr\u001b[39;00m\n\u001b[1;32m   3813\u001b[0m \u001b[38;5;28;01mexcept\u001b[39;00m \u001b[38;5;167;01mTypeError\u001b[39;00m:\n\u001b[1;32m   3814\u001b[0m     \u001b[38;5;66;03m# If we have a listlike key, _check_indexing_error will raise\u001b[39;00m\n\u001b[1;32m   3815\u001b[0m     \u001b[38;5;66;03m#  InvalidIndexError. Otherwise we fall through and re-raise\u001b[39;00m\n\u001b[1;32m   3816\u001b[0m     \u001b[38;5;66;03m#  the TypeError.\u001b[39;00m\n\u001b[1;32m   3817\u001b[0m     \u001b[38;5;28mself\u001b[39m\u001b[38;5;241m.\u001b[39m_check_indexing_error(key)\n",
            "\u001b[0;31mKeyError\u001b[0m: 'address'"
          ]
        }
      ],
      "source": [
        "# Load the schools data\n",
        "schools = pd.read_excel('/Users/jazminb./Desktop/RA_Fall2024/AtlasData/PhiladelphiaSchools.xlsx')\n",
        "\n",
        "# Initialize geolocator\n",
        "geolocator = Nominatim(user_agent=\"school_locator\")\n",
        "\n",
        "# Function to get latitude and longitude based on school name, full address, and county\n",
        "def get_coordinates(school_name, full_address, county_name):\n",
        "    try:\n",
        "        # Geocode the full address, including the school name, address, and county\n",
        "        location = geolocator.geocode(full_address)\n",
        "        \n",
        "        if location:\n",
        "            # Return the latitude and longitude if found\n",
        "            return location.latitude, location.longitude\n",
        "        else:\n",
        "            print(f\"Could not geocode: {school_name} at {full_address}\")\n",
        "            # If initial geocoding fails, try with the county (fallback to full address + county)\n",
        "            address_fallback = f\"{full_address}, {county_name}\"\n",
        "            location_fallback = geolocator.geocode(address_fallback)\n",
        "            if location_fallback:\n",
        "                return location_fallback.latitude, location_fallback.longitude\n",
        "            else:\n",
        "                print(f\"Could not geocode: {school_name} in {county_name}\")\n",
        "                return None, None\n",
        "    except Exception as e:\n",
        "        print(f\"Error for {school_name} at {full_address}: {e}\")\n",
        "        return None, None\n",
        "\n",
        "# Create a map object\n",
        "m = folium.Map(location=[39.9526, -75.1652], zoom_start=12)  # Center map on Philadelphia\n",
        "\n",
        "# Loop through schools DataFrame using .iterrows() to get rows\n",
        "results = []  # Make sure this list is initialized before use\n",
        "\n",
        "for _, school in schools.iterrows():  # .iterrows() will give us each row\n",
        "    name = school[\"name\"]\n",
        "    full_address = school[\"address\"]  # Assuming the full address is stored in the \"address\" column\n",
        "    county = school[\"county\"]  # Assuming county is also included in the DataFrame\n",
        "    lat, lon = get_coordinates(name, full_address, county)  # Get coordinates using full address and county\n",
        "    results.append({\n",
        "        \"name\": name,\n",
        "        \"type\": school[\"type\"],\n",
        "        \"address\": full_address,\n",
        "        \"county\": county,\n",
        "        \"latitude\": lat,\n",
        "        \"longitude\": lon\n",
        "    })\n",
        "    time.sleep(1)  # Pause to respect API usage limits\n",
        "\n",
        "# Convert results to a DataFrame\n",
        "school_coords = pd.DataFrame(results)\n",
        "\n",
        "# Define colors for each school type\n",
        "type_colors = {\n",
        "    \"Public District\": \"blue\",\n",
        "    \"Charter\": \"green\",\n",
        "    \"Private Secular\": \"purple\",\n",
        "    \"Private Religious\": \"red\"\n",
        "}\n",
        "\n",
        "# Plot each school on the map\n",
        "for _, row in school_coords.iterrows():\n",
        "    if not pd.isna(row[\"latitude\"]) and not pd.isna(row[\"longitude\"]):\n",
        "        folium.Marker(\n",
        "            location=[row[\"latitude\"], row[\"longitude\"]],\n",
        "            popup=f\"{row['name']} ({row['type']})\",\n",
        "            icon=folium.Icon(color=type_colors.get(row[\"type\"], \"gray\"))\n",
        "        ).add_to(m)\n",
        "\n",
        "# Save the map to an HTML file\n",
        "# m.save(\"schools_map.html\")\n",
        "\n",
        "m\n",
        "\n"
      ]
    }
  ],
  "metadata": {
    "colab": {
      "provenance": []
    },
    "kernelspec": {
      "display_name": ".venv",
      "language": "python",
      "name": "python3"
    },
    "language_info": {
      "codemirror_mode": {
        "name": "ipython",
        "version": 3
      },
      "file_extension": ".py",
      "mimetype": "text/x-python",
      "name": "python",
      "nbconvert_exporter": "python",
      "pygments_lexer": "ipython3",
      "version": "3.11.4"
    }
  },
  "nbformat": 4,
  "nbformat_minor": 0
}
